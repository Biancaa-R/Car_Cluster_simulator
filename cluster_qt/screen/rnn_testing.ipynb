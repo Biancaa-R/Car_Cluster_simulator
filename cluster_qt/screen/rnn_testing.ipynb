{
 "cells": [
  {
   "cell_type": "markdown",
   "metadata": {},
   "source": [
    "RNN for image classification:"
   ]
  },
  {
   "cell_type": "code",
   "execution_count": 1,
   "metadata": {},
   "outputs": [
    {
     "name": "stdout",
     "output_type": "stream",
     "text": [
      "WARNING:tensorflow:From d:\\Anaconda\\Lib\\site-packages\\keras\\src\\losses.py:2976: The name tf.losses.sparse_softmax_cross_entropy is deprecated. Please use tf.compat.v1.losses.sparse_softmax_cross_entropy instead.\n",
      "\n"
     ]
    }
   ],
   "source": [
    "import tensorflow as tf\n",
    "from tensorflow import keras\n",
    "import numpy as np\n",
    "import matplotlib.pyplot as plt\n",
    "import os\n",
    "import cv2\n",
    "#for splitting the data into train/test sets\n",
    "from sklearn.preprocessing import LabelEncoder\n",
    "from tensorflow.keras.utils import to_categorical\n",
    "from sklearn.model_selection import train_test_split"
   ]
  },
  {
   "cell_type": "code",
   "execution_count": 2,
   "metadata": {},
   "outputs": [],
   "source": [
    "folder_dir=\"images\""
   ]
  },
  {
   "cell_type": "code",
   "execution_count": 3,
   "metadata": {},
   "outputs": [],
   "source": [
    "data=[]\n",
    "label=[]\n",
    "SIZE=128\n",
    "\n",
    "for folder in os.listdir(folder_dir):\n",
    "    for file in os.listdir(os.path.join(folder_dir,folder)):\n",
    "        if file.endswith(\"jpg\") or file.endswith(\"png\"):\n",
    "            label.append(folder) \n",
    "            #for saving what all classes we are having\n",
    "            img=cv2.imread(os.path.join(folder_dir,folder,file))\n",
    "            img_rgb=cv2.cvtColor(img,cv2.COLOR_BGR2RGB)\n",
    "            im=cv2.resize(img_rgb,(SIZE,SIZE))\n",
    "            data.append(im)\n",
    "        else:\n",
    "            continue"
   ]
  },
  {
   "cell_type": "code",
   "execution_count": 4,
   "metadata": {},
   "outputs": [],
   "source": [
    "data_arr=np.array(data)\n",
    "label_arr=np.array(label)\n"
   ]
  },
  {
   "cell_type": "code",
   "execution_count": 18,
   "metadata": {},
   "outputs": [],
   "source": [
    "encoder=LabelEncoder()\n",
    "y=encoder.fit_transform(label_arr)\n",
    "y=to_categorical(y,5) #becaue we have 5 different categories\n",
    "x=data_arr/255"
   ]
  },
  {
   "cell_type": "code",
   "execution_count": 27,
   "metadata": {},
   "outputs": [],
   "source": [
    "x_train,x_test,y_train,y_test=train_test_split(x,y,test_size=0.2,random_state=10)"
   ]
  },
  {
   "cell_type": "code",
   "execution_count": 20,
   "metadata": {},
   "outputs": [],
   "source": [
    "# model = tf.keras.Sequential([\n",
    "#   #tf.keras.Input(shape=(128,128)),\n",
    "#   keras.layers.Input(input_shape=(128, 128, 3)),\n",
    "#   tf.keras.layers.GRU(28),\n",
    "#   tf.keras.layers.Dense(128, activation='relu',input_shape=(128, 128, )),\n",
    "#   tf.keras.layers.Dropout(0.2,input_shape=(128,)),\n",
    "#   tf.keras.layers.Dense(10, activation='softmax')\n",
    "# ])\n",
    "model = tf.keras.Sequential([\n",
    "    keras.layers.Input(shape=(128, 128, 3)),  # Input layer for image data\n",
    "    tf.keras.layers.Reshape((128, 128*3)),   # Reshape to (timesteps, features)\n",
    "    tf.keras.layers.GRU(128),               # GRU layer\n",
    "    #tf.keras.layers.Dense(10, activation='softmax'),  # Output layer for 10 classes\n",
    "    tf.keras.layers.Dense(10, activation='softmax')\n",
    "])\n"
   ]
  },
  {
   "cell_type": "code",
   "execution_count": 21,
   "metadata": {},
   "outputs": [],
   "source": [
    "model.compile(optimizer='adam', loss='sparse_categorical_crossentropy', metrics=['accuracy'])"
   ]
  },
  {
   "cell_type": "code",
   "execution_count": 22,
   "metadata": {},
   "outputs": [],
   "source": [
    "def scheduler(epoch, lr):\n",
    "      if epoch < 8:\n",
    "        return lr\n",
    "      else:\n",
    "        return lr * tf.math.exp(-0.1)"
   ]
  },
  {
   "cell_type": "code",
   "execution_count": 23,
   "metadata": {},
   "outputs": [],
   "source": [
    "my_callbacks = [\n",
    "    tf.keras.callbacks.EarlyStopping(monitor=\"val_loss\",patience=2),\n",
    "    tf.keras.callbacks.LearningRateScheduler(scheduler)\n",
    "]"
   ]
  },
  {
   "cell_type": "code",
   "execution_count": 24,
   "metadata": {},
   "outputs": [
    {
     "name": "stdout",
     "output_type": "stream",
     "text": [
      "x_train shape: (3108, 128, 128, 3)\n",
      "y_train shape: (3108, 5)\n"
     ]
    }
   ],
   "source": [
    "print(\"x_train shape:\", x_train.shape)  # Should be (num_samples, height, width, channels)\n",
    "print(\"y_train shape:\", y_train.shape)  # Should be (num_samples,)"
   ]
  },
  {
   "cell_type": "code",
   "execution_count": 28,
   "metadata": {},
   "outputs": [
    {
     "name": "stdout",
     "output_type": "stream",
     "text": [
      "Epoch 1/30\n",
      "98/98 [==============================] - 15s 129ms/step - loss: 0.7726 - accuracy: 0.7548 - val_loss: 0.8267 - val_accuracy: 0.7301 - lr: 0.0010\n",
      "Epoch 2/30\n",
      "98/98 [==============================] - 10s 100ms/step - loss: 0.7555 - accuracy: 0.7535 - val_loss: 0.7945 - val_accuracy: 0.7237 - lr: 0.0010\n",
      "Epoch 3/30\n",
      "98/98 [==============================] - 12s 125ms/step - loss: 0.7464 - accuracy: 0.7510 - val_loss: 0.7502 - val_accuracy: 0.7429 - lr: 0.0010\n",
      "Epoch 4/30\n",
      "98/98 [==============================] - 16s 159ms/step - loss: 0.7372 - accuracy: 0.7580 - val_loss: 0.8274 - val_accuracy: 0.7211 - lr: 0.0010\n",
      "Epoch 5/30\n",
      "98/98 [==============================] - 17s 178ms/step - loss: 0.7247 - accuracy: 0.7580 - val_loss: 0.7359 - val_accuracy: 0.7494 - lr: 0.0010\n",
      "Epoch 6/30\n",
      "98/98 [==============================] - 18s 181ms/step - loss: 0.6991 - accuracy: 0.7667 - val_loss: 0.7088 - val_accuracy: 0.7519 - lr: 0.0010\n",
      "Epoch 7/30\n",
      "98/98 [==============================] - 17s 178ms/step - loss: 0.6844 - accuracy: 0.7661 - val_loss: 0.7352 - val_accuracy: 0.7532 - lr: 0.0010\n",
      "Epoch 8/30\n",
      "98/98 [==============================] - 18s 182ms/step - loss: 0.6706 - accuracy: 0.7693 - val_loss: 0.7202 - val_accuracy: 0.7442 - lr: 0.0010\n"
     ]
    }
   ],
   "source": [
    "# Normalize input data\n",
    "x_train = x_train.astype('float32') / 255.0\n",
    "x_test = x_test.astype('float32') / 255.0\n",
    "\n",
    "# Option 1: Convert one-hot encoded labels to integers\n",
    "y_train = np.argmax(y_train, axis=1)\n",
    "y_test = np.argmax(y_test, axis=1)\n",
    "\n",
    "# Compile the model\n",
    "model.compile(\n",
    "    optimizer='adam',\n",
    "    loss='sparse_categorical_crossentropy',  # Use categorical_crossentropy if keeping one-hot labels\n",
    "    metrics=['accuracy']\n",
    ")\n",
    "\n",
    "# Train the model\n",
    "trainer = model.fit(\n",
    "    x_train,\n",
    "    y_train,\n",
    "    validation_data=(x_test, y_test),\n",
    "    epochs=30,\n",
    "    callbacks=my_callbacks  # Ensure this is defined, or remove if not used\n",
    ")\n"
   ]
  },
  {
   "cell_type": "code",
   "execution_count": 29,
   "metadata": {},
   "outputs": [
    {
     "name": "stdout",
     "output_type": "stream",
     "text": [
      "25/25 [==============================] - 4s 74ms/step\n",
      "Precision: 0.4944\n",
      "Recall: 0.4424\n",
      "F1 Score: 0.4452\n"
     ]
    },
    {
     "name": "stderr",
     "output_type": "stream",
     "text": [
      "d:\\Anaconda\\Lib\\site-packages\\sklearn\\metrics\\_classification.py:1469: UndefinedMetricWarning: Precision is ill-defined and being set to 0.0 in labels with no predicted samples. Use `zero_division` parameter to control this behavior.\n",
      "  _warn_prf(average, modifier, msg_start, len(result))\n"
     ]
    }
   ],
   "source": [
    "from sklearn.metrics import accuracy_score, confusion_matrix, precision_score, recall_score, f1_score\n",
    "\n",
    "# Get predictions\n",
    "y_pred = model.predict(x_test)\n",
    "y_pred_classes = y_pred.argmax(axis=1)  # Convert probabilities to class labels\n",
    "\n",
    "# Convert y_test to class labels (if it is one-hot encoded)\n",
    "if len(y_test.shape) > 1:  # Check if y_test is one-hot encoded\n",
    "    y_test_classes = y_test.argmax(axis=1)\n",
    "else:\n",
    "    y_test_classes = y_test  # Already in integer form\n",
    "\n",
    "# Calculate precision, recall, and F1 score\n",
    "precision = precision_score(y_test_classes, y_pred_classes, average='macro')\n",
    "recall = recall_score(y_test_classes, y_pred_classes, average='macro')\n",
    "f1 = f1_score(y_test_classes, y_pred_classes, average='macro')\n",
    "\n",
    "# Print results\n",
    "print(f'Precision: {precision:.4f}')\n",
    "print(f'Recall: {recall:.4f}')\n",
    "print(f'F1 Score: {f1:.4f}')\n"
   ]
  }
 ],
 "metadata": {
  "kernelspec": {
   "display_name": "base",
   "language": "python",
   "name": "python3"
  },
  "language_info": {
   "codemirror_mode": {
    "name": "ipython",
    "version": 3
   },
   "file_extension": ".py",
   "mimetype": "text/x-python",
   "name": "python",
   "nbconvert_exporter": "python",
   "pygments_lexer": "ipython3",
   "version": "3.11.4"
  }
 },
 "nbformat": 4,
 "nbformat_minor": 2
}
